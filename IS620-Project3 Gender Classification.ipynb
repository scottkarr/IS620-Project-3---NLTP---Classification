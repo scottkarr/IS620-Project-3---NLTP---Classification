{
 "cells": [
  {
   "cell_type": "markdown",
   "metadata": {},
   "source": [
    "# IS620 Project 3\n",
    "Scott Karr \n",
    "\n",
    "https://www.nltk.org/book/ch06.html\n",
    "\n",
    "#### This work is a recitation of the gender classifaction exercise in Chapter 6 of Natural Language Processing with Python along with revisions to <def gender_features2(name):> that improve performance on the test set to 82.4%.\n",
    "\n",
    "\n",
    "# Requirements:\n",
    "Project 3 - This is a Team Project!\n",
    "<center>------------------------------------------------------------------------------------------- o ----------------------------------------------------------------------------------------</center>\n",
    "For this project, please work with the entire class as one collaborative group! Your project should be submitted (as a Jupyter Notebook via GitHub) by end of the due date. The group should present their code and findings in our meetup.\n",
    "\n",
    "The ability to be an effective member of a virtual team is highly valued in the data science job market.\n",
    "<center>------------------------------------------------------------------------------------------- o ----------------------------------------------------------------------------------------</center>\n",
    "\n",
    "\n",
    "Using any of the three classifiers described in chapter 6 of Natural Language Processing with Python, and any features you can think of, build the best name gender classifier you can.\n",
    "\n",
    "Begin by splitting the Names Corpus into three subsets: \n",
    "\n",
    "        (1) 500 words for the test set\n",
    "        (2) 500 words for the dev- test set, and \n",
    "        (3) the remaining 6900 words for the training set \n",
    "        \n",
    "Then, starting with the example name gender classifier, make incremental improvements. Use the dev-test set to check your progress. Once you are satisfied with your classifier, check its final performance on the test set.\n",
    "\n",
    "How does the performance on the test set compare to the performance on the dev-test set? Is this what you'd expect?\n",
    "Source: Natural Language Processing with Python, exercise 6.10.2."
   ]
  },
  {
   "cell_type": "markdown",
   "metadata": {},
   "source": [
    "# <center>6. Learning to Classify Text</center>\n",
    "\n",
    "Detecting patterns is a central part of Natural Language Processing. Words ending in \"-ed\" tend to be past tense verbs (5.). Frequent use of \"will\" is indicative of news text (3). These observable patterns — word structure and word frequency — happen to correlate with particular aspects of meaning, such as tense and topic. But how did we know where to start looking, which aspects of form to associate with which aspects of meaning?\n",
    "\n",
    "The goal of this chapter is to answer the following questions:\n",
    "\n",
    "    (1) How can we identify particular features of language data that are salient for classifying it?\n",
    "    (2) How can we construct models of language that can perform language processing tasks automatically?\n",
    "    (3) What can we learn about language from these models?\n",
    "\n",
    "Along the way we will study some important machine learning techniques, including decision trees, naive Bayes' classifiers, and maximum entropy classifiers. We will gloss over the mathematical and statistical underpinnings of these techniques, focusing instead on how and when to use them (see the Further Readings section for more technical background). Before looking at these methods, we first need to appreciate the broad scope of this topic.\n",
    "\n",
    "# 1   Supervised Classification\n",
    "Classification is the task of choosing the correct class label for a given input. In basic classification tasks, each input is considered in isolation from all other inputs, and the set of labels is defined in advance. Some examples of classification tasks are:\n",
    "\n",
    "Deciding whether an email is spam or not.\n",
    "Deciding what the topic of a news article is, from a fixed list of topic areas such as \"sports,\" \"technology,\" and \"politics.\"\n",
    "Deciding whether a given occurrence of the word bank is used to refer to a river bank, a financial institution, the act of tilting to the side, or the act of depositing something in a financial institution.\n",
    "The basic classification task has a number of interesting variants. For example, in multi-class classification, each instance may be assigned multiple labels; in open-class classification, the set of labels is not defined in advance; and in sequence classification, a list of inputs are jointly classified.\n",
    "\n",
    "A classifier is called supervised if it is built based on training corpora containing the correct label for each input. The framework used by supervised classification is shown in 1.1.\n",
    "\n",
    "<img src=\"supervised-classification.png\">\n",
    "\n",
    "Figure 1.1: Supervised Classification. \n",
    "\n",
    "    (a) During training, a feature extractor is used to convert each input value to a feature set. These \n",
    "        feature sets, which capture the basic information about each input that should be used to classify it,  \n",
    "        are discussed in the next section. Pairs of feature sets and labels are fed into the machine learning        \n",
    "        algorithm to generate a model. \n",
    "\n",
    "    (b) During prediction, the same feature extractor is used to convert unseen inputs to feature sets. These \n",
    "        feature sets are then fed into the model, which generates predicted labels.\n",
    "\n",
    "In the rest of this section, we will look at how classifiers can be employed to solve a wide variety of tasks. Our discussion is not intended to be comprehensive, but to give a representative sample of tasks that can be performed with the help of text classifiers.\n",
    "\n",
    "# 1.1   Gender Identification\n",
    "\n",
    "Male and female names have some distinctive characteristics. Names ending in a, e and i are likely to be female, while names ending in k, o, r, s and t are likely to be male. Let's build a classifier to model these differences more precisely.\n",
    "\n",
    "The first step in creating a classifier is deciding what features of the input are relevant, and how to encode those features. For this example, we'll start by just looking at the final letter of a given name. The following feature extractor function builds a dictionary containing relevant information about a given name:"
   ]
  },
  {
   "cell_type": "code",
   "execution_count": 66,
   "metadata": {},
   "outputs": [
    {
     "name": "stderr",
     "output_type": "stream",
     "text": [
      "[nltk_data] Downloading package names to /Users/scottkarr/nltk_data...\n",
      "[nltk_data]   Package names is already up-to-date!\n"
     ]
    }
   ],
   "source": [
    "import nltk\n",
    "import random\n",
    "\n",
    "nltk.download('names')\n",
    "from nltk.corpus import names"
   ]
  },
  {
   "cell_type": "code",
   "execution_count": 118,
   "metadata": {},
   "outputs": [],
   "source": [
    "def gender_features(name):\n",
    "    name=name.upper()\n",
    "    return {\n",
    "        'last_letter': name[-1]\n",
    "    }"
   ]
  },
  {
   "cell_type": "code",
   "execution_count": 119,
   "metadata": {},
   "outputs": [
    {
     "data": {
      "text/plain": [
       "{'last_letter': 'K'}"
      ]
     },
     "execution_count": 119,
     "metadata": {},
     "output_type": "execute_result"
    }
   ],
   "source": [
    "gender_features('Shrek')"
   ]
  },
  {
   "cell_type": "markdown",
   "metadata": {},
   "source": [
    "Now that we've defined a feature extractor, we need to prepare a list of examples and corresponding class labels."
   ]
  },
  {
   "cell_type": "code",
   "execution_count": 297,
   "metadata": {},
   "outputs": [
    {
     "name": "stdout",
     "output_type": "stream",
     "text": [
      "7944\n"
     ]
    },
    {
     "data": {
      "text/plain": [
       "('Merla', 'female')"
      ]
     },
     "execution_count": 297,
     "metadata": {},
     "output_type": "execute_result"
    }
   ],
   "source": [
    "# get list of ordered names from nltk.corpus by importing names\n",
    "labeled_names = (\n",
    "                    [(name, 'male') for name in names.words('male.txt')] +\n",
    "                    [(name, 'female') for name in names.words('female.txt')]\n",
    ")\n",
    "# randomized the name orders\n",
    "random.shuffle(labeled_names)\n",
    "print(len(labeled_names))"
   ]
  },
  {
   "cell_type": "markdown",
   "metadata": {},
   "source": [
    "Next, we use the feature extractor to process the names data, and divide the resulting list of feature sets into a training set and a test set. The training set is used to train a new \"naive Bayes\" classifier."
   ]
  },
  {
   "cell_type": "code",
   "execution_count": 121,
   "metadata": {},
   "outputs": [],
   "source": [
    "# featuresets, train_set & test_set are dictionaries containing 2 elements per record, \n",
    "#  - the gender function return value &\n",
    "#  - the actual gender from the labeled_names set that was imported\n",
    "featuresets = [(gender_features(n), gender) for (n, gender) in labeled_names]\n",
    "train_set, test_set = featuresets[500:], featuresets[:500]\n",
    "#  apply Naive Bayes guess to train set and check classifier's predictions\n",
    "classifier = nltk.NaiveBayesClassifier.train(train_set)"
   ]
  },
  {
   "cell_type": "markdown",
   "metadata": {},
   "source": [
    "We will learn more about the naive Bayes classifier later in the chapter. For now, let's just test it out on some names that did not appear in its training data:"
   ]
  },
  {
   "cell_type": "code",
   "execution_count": 122,
   "metadata": {},
   "outputs": [
    {
     "name": "stdout",
     "output_type": "stream",
     "text": [
      "Neo is: male\n",
      "Trinity is: female\n"
     ]
    }
   ],
   "source": [
    "# use trained classifier to predict 2 names gender based upon last character\n",
    "print('Neo is: ' + classifier.classify(gender_features('Neo')))\n",
    "print('Trinity is: ' + classifier.classify(gender_features('Trinity')))"
   ]
  },
  {
   "cell_type": "markdown",
   "metadata": {},
   "source": [
    "Observe that these character names from The Matrix are correctly classified. Although this science fiction movie is set in 2199, it still conforms with our expectations about names and genders. We can systematically evaluate the classifier on a much larger quantity of unseen data:\n",
    "\n"
   ]
  },
  {
   "cell_type": "code",
   "execution_count": 134,
   "metadata": {},
   "outputs": [
    {
     "name": "stdout",
     "output_type": "stream",
     "text": [
      "0.76\n"
     ]
    }
   ],
   "source": [
    "print(nltk.classify.accuracy(classifier, test_set))"
   ]
  },
  {
   "cell_type": "markdown",
   "metadata": {},
   "source": [
    "Finally, we can examine the classifier to determine which features it found most effective for distinguishing the names' genders:"
   ]
  },
  {
   "cell_type": "code",
   "execution_count": 125,
   "metadata": {},
   "outputs": [
    {
     "name": "stdout",
     "output_type": "stream",
     "text": [
      "Most Informative Features\n",
      "             last_letter = 'K'              male : female =     41.0 : 1.0\n",
      "             last_letter = 'A'            female : male   =     33.4 : 1.0\n",
      "             last_letter = 'F'              male : female =     16.6 : 1.0\n",
      "             last_letter = 'P'              male : female =     11.9 : 1.0\n",
      "             last_letter = 'V'              male : female =     11.2 : 1.0\n"
     ]
    }
   ],
   "source": [
    "classifier.show_most_informative_features(5)"
   ]
  },
  {
   "cell_type": "markdown",
   "metadata": {},
   "source": [
    "This listing shows that the names in the training set that end in \"a\" are female 33 times more often than they are male, but names that end in \"k\" are male 32 times more often than they are female. These ratios are known as likelihood ratios, and can be useful for comparing different feature-outcome relationships.\n",
    "\n",
    "Your Turn: Modify the gender_features() function to provide the classifier with features encoding the length of the name, its first letter, and any other features that seem like they might be informative. Retrain the classifier with these new features, and test its accuracy."
   ]
  },
  {
   "cell_type": "markdown",
   "metadata": {},
   "source": [
    "When working with large corpora, constructing a single list that contains the features of every instance can use up a large amount of memory. In these cases, use the function nltk.classify.apply_features, which returns an object that acts like a list but does not store all the feature sets in memory:"
   ]
  },
  {
   "cell_type": "code",
   "execution_count": 152,
   "metadata": {},
   "outputs": [],
   "source": [
    "from nltk.classify import apply_features\n",
    "train_set = apply_features(gender_features, labeled_names[500:])\n",
    "test_set = apply_features(gender_features, labeled_names[:500])"
   ]
  },
  {
   "cell_type": "markdown",
   "metadata": {},
   "source": [
    "Typically, feature extractors are built through a process of trial-and-error, guided by intuitions about what information is relevant to the problem. It's common to start with a \"kitchen sink\" approach, including all the features that you can think of, and then checking to see which features actually are helpful. "
   ]
  },
  {
   "cell_type": "code",
   "execution_count": 391,
   "metadata": {},
   "outputs": [],
   "source": [
    "def gender_features2(name):\n",
    "    features = {}\n",
    "    features[\"first_letter\"] = name[:1].lower()\n",
    "    features[\"first_two\"] = name[:2].lower()   \n",
    "    features[\"first_three\"] = name[:3].lower()      \n",
    "    features[\"last_letter\"] = name[-1].lower()\n",
    "    features[\"last_two\"] = name[-2:].lower()     \n",
    "    features[\"suffix3\"] = name[-3:].lower()\n",
    "    features[\"suffix4\"] = name[-4:].lower()    \n",
    "    features[\"last_is_vowel\"] = (name[-1].lower() in 'aeiouy')\n",
    "    features[\"odd\"] = (name.find(\"-\") > 0),     \n",
    "    for letter in 'abcdefghijklmnopqrstuvwxyz':\n",
    "        features[\"count({})\".format(letter)] = name.lower().count(letter)\n",
    "        features[\"has({})\".format(letter)] = (letter in name.lower())\n",
    "    return features"
   ]
  },
  {
   "cell_type": "code",
   "execution_count": 392,
   "metadata": {},
   "outputs": [],
   "source": [
    "# featuresets, train_set & test_set are dictionaries containing 2 elements per record, \n",
    "#  - the gender function return value &\n",
    "#  - the actual gender from the labeled_names set that was imported\n",
    "featuresets = [(gender_features2(n), gender) for (n, gender) in labeled_names]\n",
    "train_set, test_set = featuresets[500:], featuresets[:500]\n",
    "#  apply Naive Bayes guess to train set and check classifier's predictions\n",
    "classifier = nltk.NaiveBayesClassifier.train(train_set)"
   ]
  },
  {
   "cell_type": "code",
   "execution_count": 393,
   "metadata": {},
   "outputs": [
    {
     "name": "stdout",
     "output_type": "stream",
     "text": [
      "Most Informative Features\n",
      "                last_two = 'na'           female : male   =     99.2 : 1.0\n",
      "                last_two = 'la'           female : male   =     78.1 : 1.0\n",
      "                last_two = 'ia'           female : male   =     56.5 : 1.0\n",
      "             last_letter = 'a'            female : male   =     37.4 : 1.0\n",
      "                 suffix3 = 'nne'          female : male   =     31.5 : 1.0\n",
      "             last_letter = 'k'              male : female =     30.6 : 1.0\n",
      "                last_two = 'us'             male : female =     28.7 : 1.0\n",
      "                last_two = 'ra'           female : male   =     26.4 : 1.0\n",
      "                last_two = 'do'             male : female =     26.0 : 1.0\n",
      "                 suffix3 = 'tta'          female : male   =     26.0 : 1.0\n",
      "                last_two = 'ta'           female : male   =     25.4 : 1.0\n",
      "                 suffix3 = 'ana'          female : male   =     25.1 : 1.0\n",
      "                last_two = 'ld'             male : female =     24.2 : 1.0\n",
      "                last_two = 'rd'             male : female =     24.2 : 1.0\n",
      "                 suffix4 = 'bert'           male : female =     23.3 : 1.0\n",
      "                 suffix4 = 'etta'         female : male   =     23.1 : 1.0\n",
      "                 suffix4 = 'anne'         female : male   =     22.2 : 1.0\n",
      "                last_two = 'rt'             male : female =     22.0 : 1.0\n",
      "                last_two = 'os'             male : female =     20.5 : 1.0\n",
      "                 suffix3 = 'ard'            male : female =     20.2 : 1.0\n",
      "             last_letter = 'p'              male : female =     19.7 : 1.0\n",
      "                 suffix3 = 'vin'            male : female =     19.2 : 1.0\n",
      "               first_two = 'hu'             male : female =     18.3 : 1.0\n",
      "                 suffix3 = 'old'            male : female =     18.1 : 1.0\n",
      "                last_two = 'io'             male : female =     16.9 : 1.0\n",
      "             last_letter = 'f'              male : female =     16.5 : 1.0\n",
      "                 suffix3 = 'ita'          female : male   =     15.8 : 1.0\n",
      "                 suffix3 = 'ela'          female : male   =     15.2 : 1.0\n",
      "                 suffix3 = 'dra'          female : male   =     14.8 : 1.0\n",
      "                last_two = 'ka'           female : male   =     14.7 : 1.0\n",
      "                last_two = 'ch'             male : female =     14.3 : 1.0\n",
      "                 suffix3 = 'ria'          female : male   =     13.5 : 1.0\n",
      "             first_three = 'tha'            male : female =     13.0 : 1.0\n",
      "                 suffix3 = 'nni'          female : male   =     12.2 : 1.0\n",
      "                 suffix3 = 'son'            male : female =     11.9 : 1.0\n",
      "                last_two = 'ya'           female : male   =     11.9 : 1.0\n",
      "                 suffix3 = 'ert'            male : female =     11.8 : 1.0\n",
      "             first_three = 'cat'          female : male   =     11.8 : 1.0\n",
      "                last_two = 'ns'             male : female =     11.6 : 1.0\n",
      "                 suffix4 = 'ndra'         female : male   =     11.4 : 1.0\n",
      "             first_three = 'ros'          female : male   =     11.2 : 1.0\n",
      "                last_two = 'ip'             male : female =     10.5 : 1.0\n",
      "                last_two = 'ff'             male : female =     10.5 : 1.0\n",
      "             last_letter = 'v'              male : female =     10.5 : 1.0\n",
      "             first_three = 'dor'          female : male   =     10.4 : 1.0\n",
      "                last_two = 'im'             male : female =     10.3 : 1.0\n",
      "                 suffix3 = 'tha'          female : male   =     10.1 : 1.0\n",
      "             first_three = 'gar'            male : female =     10.0 : 1.0\n",
      "                 suffix3 = 'dor'            male : female =      9.8 : 1.0\n",
      "               first_two = 'fo'             male : female =      9.6 : 1.0\n"
     ]
    }
   ],
   "source": [
    "classifier.show_most_informative_features(50)"
   ]
  },
  {
   "cell_type": "code",
   "execution_count": 394,
   "metadata": {},
   "outputs": [],
   "source": [
    "# gender_features2('Isabelle') "
   ]
  },
  {
   "cell_type": "markdown",
   "metadata": {},
   "source": [
    "However, there are usually limits to the number of features that you should use with a given learning algorithm — if you provide too many features, then the algorithm will have a higher chance of relying on idiosyncrasies of your training data that don't generalize well to new examples. This problem is known as overfitting, and can be especially problematic when working with small training sets. For example, if we train a naive Bayes classifier using the feature extractor shown in 1.2, it will overfit the relatively small training set, resulting in a system whose accuracy is about 1% lower than the accuracy of a classifier that only pays attention to the final letter of each name:"
   ]
  },
  {
   "cell_type": "code",
   "execution_count": 395,
   "metadata": {},
   "outputs": [
    {
     "name": "stdout",
     "output_type": "stream",
     "text": [
      "0.824\n"
     ]
    }
   ],
   "source": [
    "featuresets = [(gender_features2(n), gender) for (n, gender) in labeled_names]\n",
    "train_set, test_set = featuresets[500:], featuresets[:500]\n",
    "classifier = nltk.NaiveBayesClassifier.train(train_set)\n",
    "print(nltk.classify.accuracy(classifier, test_set))"
   ]
  },
  {
   "cell_type": "markdown",
   "metadata": {},
   "source": [
    "Once an initial set of features has been chosen, a very productive method for refining the feature set is error analysis. First, we select a development set, containing the corpus data for creating the model. This development set is then subdivided into the training set and the dev-test set."
   ]
  },
  {
   "cell_type": "code",
   "execution_count": 378,
   "metadata": {},
   "outputs": [],
   "source": [
    "train_names = labeled_names[1500:]\n",
    "devtest_names = labeled_names[500:1500]\n",
    "test_names = labeled_names[:500]"
   ]
  },
  {
   "cell_type": "markdown",
   "metadata": {},
   "source": [
    "The training set is used to train the model, and the dev-test set is used to perform error analysis. The test set serves in our final evaluation of the system. For reasons discussed below, it is important that we employ a separate dev-test set for error analysis, rather than just using the test set. The division of the corpus data into different subsets is shown in 1.3.\n",
    "\n"
   ]
  },
  {
   "cell_type": "markdown",
   "metadata": {},
   "source": [
    "<img src=\"corpus-org.png\">\n",
    "\n",
    "Figure 1.3: Organization of corpus data for training supervised classifiers. The corpus data is divided into two sets: the development set, and the test set. The development set is often further subdivided into a training set and a dev-test set.\n",
    "\n",
    "Having divided the corpus into appropriate datasets, we train a model using the training set [1], and then run it on the dev-test set [2]."
   ]
  },
  {
   "cell_type": "code",
   "execution_count": 379,
   "metadata": {},
   "outputs": [
    {
     "name": "stdout",
     "output_type": "stream",
     "text": [
      "0.819\n"
     ]
    }
   ],
   "source": [
    "train_set = [(gender_features2(n), gender) for (n, gender) in train_names]\n",
    "devtest_set = [(gender_features2(n), gender) for (n, gender) in devtest_names]\n",
    "test_set = [(gender_features2(n), gender) for (n, gender) in test_names]\n",
    "classifier = nltk.NaiveBayesClassifier.train(train_set) # [1]\n",
    "print(nltk.classify.accuracy(classifier, devtest_set)) # [2]"
   ]
  },
  {
   "cell_type": "markdown",
   "metadata": {},
   "source": [
    "Using the dev-test set, we can generate a list of the errors that the classifier makes when predicting name genders:"
   ]
  },
  {
   "cell_type": "code",
   "execution_count": 359,
   "metadata": {},
   "outputs": [],
   "source": [
    "errors = []\n",
    "for (name, tag) in devtest_names:\n",
    "    guess = classifier.classify(gender_features2(name))\n",
    "    if guess != tag:\n",
    "        errors.append( (tag, guess, name)\n",
    ") "
   ]
  },
  {
   "cell_type": "markdown",
   "metadata": {},
   "source": [
    "We can then examine individual error cases where the model predicted the wrong label, and try to determine what additional pieces of information would allow it to make the right decision (or which existing pieces of information are tricking it into making the wrong decision). The feature set can then be adjusted accordingly. The names classifier that we have built generates about 100 errors on the dev-test corpus:\n",
    "\n"
   ]
  },
  {
   "cell_type": "code",
   "execution_count": 360,
   "metadata": {},
   "outputs": [
    {
     "name": "stdout",
     "output_type": "stream",
     "text": [
      "correct=female   guess=male     name=Adrian                        \n",
      "correct=female   guess=male     name=Adrien                        \n",
      "correct=female   guess=male     name=Allsun                        \n",
      "correct=female   guess=male     name=Alyson                        \n",
      "correct=female   guess=male     name=Aubry                         \n",
      "correct=female   guess=male     name=Austin                        \n",
      "correct=female   guess=male     name=Babs                          \n",
      "correct=female   guess=male     name=Beau                          \n",
      "correct=female   guess=male     name=Beilul                        \n",
      "correct=female   guess=male     name=Beitris                       \n",
      "correct=female   guess=male     name=Beulah                        \n",
      "correct=female   guess=male     name=Bo                            \n",
      "correct=female   guess=male     name=Bonny                         \n",
      "correct=female   guess=male     name=Bridgett                      \n",
      "correct=female   guess=male     name=Cam                           \n",
      "correct=female   guess=male     name=Caron                         \n",
      "correct=female   guess=male     name=Cat                           \n",
      "correct=female   guess=male     name=Chandal                       \n",
      "correct=female   guess=male     name=Cherish                       \n",
      "correct=female   guess=male     name=Chris                         \n",
      "correct=female   guess=male     name=Chriss                        \n",
      "correct=female   guess=male     name=Christean                     \n",
      "correct=female   guess=male     name=Clem                          \n",
      "correct=female   guess=male     name=Correy                        \n",
      "correct=female   guess=male     name=Cris                          \n",
      "correct=female   guess=male     name=Daffy                         \n",
      "correct=female   guess=male     name=Darryl                        \n",
      "correct=female   guess=male     name=Debor                         \n",
      "correct=female   guess=male     name=Dell                          \n",
      "correct=female   guess=male     name=Deloris                       \n",
      "correct=female   guess=male     name=Devon                         \n",
      "correct=female   guess=male     name=Dorcas                        \n",
      "correct=female   guess=male     name=Dot                           \n",
      "correct=female   guess=male     name=Easter                        \n",
      "correct=female   guess=male     name=Erin                          \n",
      "correct=female   guess=male     name=Erinn                         \n",
      "correct=female   guess=male     name=Ethelind                      \n",
      "correct=female   guess=male     name=Evey                          \n",
      "correct=female   guess=male     name=Felicdad                      \n",
      "correct=female   guess=male     name=Ferne                         \n",
      "correct=female   guess=male     name=Fey                           \n",
      "correct=female   guess=male     name=Francis                       \n",
      "correct=female   guess=male     name=Fred                          \n",
      "correct=female   guess=male     name=Gale                          \n",
      "correct=female   guess=male     name=Garland                       \n",
      "correct=female   guess=male     name=Garnet                        \n",
      "correct=female   guess=male     name=Gen                           \n",
      "correct=female   guess=male     name=Gertrudis                     \n",
      "correct=female   guess=male     name=Greer                         \n",
      "correct=female   guess=male     name=Grissel                       \n",
      "correct=female   guess=male     name=Guenevere                     \n",
      "correct=female   guess=male     name=Gusty                         \n",
      "correct=female   guess=male     name=Gwendolin                     \n",
      "correct=female   guess=male     name=Gwyneth                       \n",
      "correct=female   guess=male     name=Hannibal                      \n",
      "correct=female   guess=male     name=Hanny                         \n",
      "correct=female   guess=male     name=Harley                        \n",
      "correct=female   guess=male     name=Hedwig                        \n",
      "correct=female   guess=male     name=Holley                        \n",
      "correct=female   guess=male     name=Inger                         \n",
      "correct=female   guess=male     name=Jean                          \n",
      "correct=female   guess=male     name=Jenifer                       \n",
      "correct=female   guess=male     name=Joan                          \n",
      "correct=female   guess=male     name=Joey                          \n",
      "correct=female   guess=male     name=Joyan                         \n",
      "correct=female   guess=male     name=Joyous                        \n",
      "correct=female   guess=male     name=Kip                           \n",
      "correct=female   guess=male     name=Kirsten                       \n",
      "correct=female   guess=male     name=Kit                           \n",
      "correct=female   guess=male     name=Konstance                     \n",
      "correct=female   guess=male     name=Kristan                       \n",
      "correct=female   guess=male     name=Kristin                       \n",
      "correct=female   guess=male     name=Lamb                          \n",
      "correct=female   guess=male     name=Margalo                       \n",
      "correct=female   guess=male     name=Margaret                      \n",
      "correct=female   guess=male     name=Margaux                       \n",
      "correct=female   guess=male     name=Margeaux                      \n",
      "correct=female   guess=male     name=Marigold                      \n",
      "correct=female   guess=male     name=Marit                         \n",
      "correct=female   guess=male     name=Mead                          \n",
      "correct=female   guess=male     name=Megen                         \n",
      "correct=female   guess=male     name=Meghan                        \n",
      "correct=female   guess=male     name=Michal                        \n",
      "correct=female   guess=male     name=Mikako                        \n",
      "correct=female   guess=male     name=Monah                         \n",
      "correct=female   guess=male     name=Monique                       \n",
      "correct=female   guess=male     name=Muire                         \n",
      "correct=female   guess=male     name=Nicol                         \n",
      "correct=female   guess=male     name=Ninon                         \n",
      "correct=female   guess=male     name=Parwane                       \n",
      "correct=female   guess=male     name=Patience                      \n",
      "correct=female   guess=male     name=Perl                          \n",
      "correct=female   guess=male     name=Quinn                         \n",
      "correct=female   guess=male     name=Rahel                         \n",
      "correct=female   guess=male     name=Raquel                        \n",
      "correct=female   guess=male     name=Renel                         \n",
      "correct=female   guess=male     name=Robinet                       \n",
      "correct=female   guess=male     name=Roch                          \n",
      "correct=female   guess=male     name=Rosamund                      \n",
      "correct=female   guess=male     name=Roz                           \n",
      "correct=female   guess=male     name=Sam                           \n",
      "correct=female   guess=male     name=Scarlet                       \n",
      "correct=female   guess=male     name=Shell                         \n",
      "correct=female   guess=male     name=Sigrid                        \n",
      "correct=female   guess=male     name=Siobhan                       \n",
      "correct=female   guess=male     name=Stoddard                      \n",
      "correct=female   guess=male     name=Sybyl                         \n",
      "correct=female   guess=male     name=Sydney                        \n",
      "correct=female   guess=male     name=Ted                           \n",
      "correct=female   guess=male     name=Tim                           \n",
      "correct=female   guess=male     name=Tish                          \n",
      "correct=female   guess=male     name=Tracy                         \n",
      "correct=female   guess=male     name=Trudey                        \n",
      "correct=female   guess=male     name=Vonny                         \n",
      "correct=female   guess=male     name=Waly                          \n",
      "correct=female   guess=male     name=Wandie                        \n",
      "correct=female   guess=male     name=Wandis                        \n",
      "correct=female   guess=male     name=Wynnie                        \n",
      "correct=male     guess=female   name=Alexei                        \n",
      "correct=male     guess=female   name=Alfie                         \n",
      "correct=male     guess=female   name=Ali                           \n",
      "correct=male     guess=female   name=Alley                         \n",
      "correct=male     guess=female   name=Amery                         \n",
      "correct=male     guess=female   name=Antoni                        \n",
      "correct=male     guess=female   name=Baily                         \n",
      "correct=male     guess=female   name=Bennie                        \n",
      "correct=male     guess=female   name=Brandy                        \n",
      "correct=male     guess=female   name=Clemente                      \n",
      "correct=male     guess=female   name=Cole                          \n",
      "correct=male     guess=female   name=Cory                          \n",
      "correct=male     guess=female   name=Cy                            \n",
      "correct=male     guess=female   name=Dane                          \n",
      "correct=male     guess=female   name=Dory                          \n",
      "correct=male     guess=female   name=Dwaine                        \n",
      "correct=male     guess=female   name=Emil                          \n",
      "correct=male     guess=female   name=Erny                          \n",
      "correct=male     guess=female   name=Ferdie                        \n",
      "correct=male     guess=female   name=Filmore                       \n",
      "correct=male     guess=female   name=Giavani                       \n",
      "correct=male     guess=female   name=Hailey                        \n",
      "correct=male     guess=female   name=Henrie                        \n",
      "correct=male     guess=female   name=Ike                           \n",
      "correct=male     guess=female   name=Ikey                          \n",
      "correct=male     guess=female   name=Ira                           \n",
      "correct=male     guess=female   name=Jodi                          \n",
      "correct=male     guess=female   name=Johann                        \n",
      "correct=male     guess=female   name=Jory                          \n",
      "correct=male     guess=female   name=Juanita                       \n",
      "correct=male     guess=female   name=Julian                        \n",
      "correct=male     guess=female   name=Lane                          \n",
      "correct=male     guess=female   name=Lanny                         \n",
      "correct=male     guess=female   name=Laurance                      \n",
      "correct=male     guess=female   name=Lennie                        \n",
      "correct=male     guess=female   name=Lesley                        \n",
      "correct=male     guess=female   name=Lin                           \n",
      "correct=male     guess=female   name=Mickie                        \n",
      "correct=male     guess=female   name=Mustafa                       \n",
      "correct=male     guess=female   name=Neddie                        \n",
      "correct=male     guess=female   name=Neddy                         \n",
      "correct=male     guess=female   name=Neil                          \n",
      "correct=male     guess=female   name=Ole                           \n",
      "correct=male     guess=female   name=Orville                       \n",
      "correct=male     guess=female   name=Pete                          \n",
      "correct=male     guess=female   name=Rabi                          \n",
      "correct=male     guess=female   name=Rice                          \n",
      "correct=male     guess=female   name=Ricki                         \n",
      "correct=male     guess=female   name=Rikki                         \n",
      "correct=male     guess=female   name=Robbie                        \n",
      "correct=male     guess=female   name=Roice                         \n",
      "correct=male     guess=female   name=Sasha                         \n",
      "correct=male     guess=female   name=Shaine                        \n",
      "correct=male     guess=female   name=Shelley                       \n",
      "correct=male     guess=female   name=Sibyl                         \n",
      "correct=male     guess=female   name=Tallie                        \n",
      "correct=male     guess=female   name=Tremaine                      \n",
      "correct=male     guess=female   name=Tremayne                      \n",
      "correct=male     guess=female   name=Vaclav                        \n",
      "correct=male     guess=female   name=Vasili                        \n",
      "correct=male     guess=female   name=Vasily                        \n",
      "correct=male     guess=female   name=Vinny                         \n",
      "correct=male     guess=female   name=Vite                          \n"
     ]
    }
   ],
   "source": [
    "for (tag, guess, name) in sorted(errors):\n",
    "    print('correct={:<8} guess={:<8s} name={:<30}'.format(tag, guess, name))"
   ]
  },
  {
   "cell_type": "markdown",
   "metadata": {},
   "source": [
    "Looking through this list of errors makes it clear that some suffixes that are more than one letter can be indicative of name genders. For example, names ending in yn appear to be predominantly female, despite the fact that names ending in n tend to be male; and names ending in ch are usually male, even though names that end in h tend to be female. We therefore adjust our feature extractor to include features for two-letter suffixes:\n",
    "\n"
   ]
  },
  {
   "cell_type": "code",
   "execution_count": 43,
   "metadata": {},
   "outputs": [],
   "source": [
    "def gender_features(word):\n",
    "    return {'suffix1': word[-1:],'suffix2': word[-2:]}"
   ]
  },
  {
   "cell_type": "markdown",
   "metadata": {},
   "source": [
    "Rebuilding the classifier with the new feature extractor, we see that the performance on the dev-test dataset improves by almost 2 percentage points (from 76.5% to 78.2%):"
   ]
  },
  {
   "cell_type": "code",
   "execution_count": 44,
   "metadata": {},
   "outputs": [
    {
     "name": "stdout",
     "output_type": "stream",
     "text": [
      "0.799\n"
     ]
    }
   ],
   "source": [
    "train_set = [(gender_features(n), gender) for (n, gender) in train_names]\n",
    "devtest_set = [(gender_features(n), gender) for (n, gender) in devtest_names]\n",
    "classifier = nltk.NaiveBayesClassifier.train(train_set)\n",
    "print(nltk.classify.accuracy(classifier, devtest_set))"
   ]
  },
  {
   "cell_type": "markdown",
   "metadata": {},
   "source": [
    "This error analysis procedure can then be repeated, checking for patterns in the errors that are made by the newly improved classifier. Each time the error analysis procedure is repeated, we should select a different dev-test/training split, to ensure that the classifier does not start to reflect idiosyncrasies in the dev-test set.\n",
    "\n",
    "But once we've used the dev-test set to help us develop the model, we can no longer trust that it will give us an accurate idea of how well the model would perform on new data. It is therefore important to keep the test set separate, and unused, until our model development is complete. At that point, we can use the test set to evaluate how well our model will perform on new input values."
   ]
  },
  {
   "cell_type": "code",
   "execution_count": null,
   "metadata": {},
   "outputs": [],
   "source": []
  }
 ],
 "metadata": {
  "kernelspec": {
   "display_name": "Python 3",
   "language": "python",
   "name": "python3"
  },
  "language_info": {
   "codemirror_mode": {
    "name": "ipython",
    "version": 3
   },
   "file_extension": ".py",
   "mimetype": "text/x-python",
   "name": "python",
   "nbconvert_exporter": "python",
   "pygments_lexer": "ipython3",
   "version": "3.7.3"
  }
 },
 "nbformat": 4,
 "nbformat_minor": 2
}
